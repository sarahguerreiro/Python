{
  "nbformat": 4,
  "nbformat_minor": 0,
  "metadata": {
    "colab": {
      "provenance": [],
      "authorship_tag": "ABX9TyOY1gTMQcJuP7r/feVV1J1l",
      "include_colab_link": true
    },
    "kernelspec": {
      "name": "python3",
      "display_name": "Python 3"
    },
    "language_info": {
      "name": "python"
    }
  },
  "cells": [
    {
      "cell_type": "markdown",
      "metadata": {
        "id": "view-in-github",
        "colab_type": "text"
      },
      "source": [
        "<a href=\"https://colab.research.google.com/github/sarahguerreiro/python/blob/main/revisitando_conhecimentos.ipynb\" target=\"_parent\"><img src=\"https://colab.research.google.com/assets/colab-badge.svg\" alt=\"Open In Colab\"/></a>"
      ]
    },
    {
      "cell_type": "code",
      "execution_count": 1,
      "metadata": {
        "colab": {
          "base_uri": "https://localhost:8080/"
        },
        "id": "SiX77KwnVUnX",
        "outputId": "45107252-020e-40be-f3df-8a7fcee698b0"
      },
      "outputs": [
        {
          "output_type": "stream",
          "name": "stdout",
          "text": [
            "sarah\n"
          ]
        }
      ],
      "source": [
        "nome = \"sarah\"\n",
        "print(nome)"
      ]
    },
    {
      "cell_type": "code",
      "source": [
        "nome"
      ],
      "metadata": {
        "colab": {
          "base_uri": "https://localhost:8080/",
          "height": 36
        },
        "id": "bnTCrLvQWNFr",
        "outputId": "6769ebd9-38d0-4562-936d-b758c05712d9"
      },
      "execution_count": 2,
      "outputs": [
        {
          "output_type": "execute_result",
          "data": {
            "text/plain": [
              "'sarah'"
            ],
            "application/vnd.google.colaboratory.intrinsic+json": {
              "type": "string"
            }
          },
          "metadata": {},
          "execution_count": 2
        }
      ]
    },
    {
      "cell_type": "code",
      "source": [
        "idade = 28\n",
        "idade"
      ],
      "metadata": {
        "colab": {
          "base_uri": "https://localhost:8080/"
        },
        "id": "FH-XyL0bWtB4",
        "outputId": "48e8a7d6-4ea4-42dc-aae2-891c7dac0a36"
      },
      "execution_count": 3,
      "outputs": [
        {
          "output_type": "execute_result",
          "data": {
            "text/plain": [
              "28"
            ]
          },
          "metadata": {},
          "execution_count": 3
        }
      ]
    },
    {
      "cell_type": "code",
      "source": [
        "idade +  3"
      ],
      "metadata": {
        "colab": {
          "base_uri": "https://localhost:8080/"
        },
        "id": "gzqEVVhRWzLv",
        "outputId": "900e20d4-acdb-47aa-95ad-38f1495dd9b1"
      },
      "execution_count": 4,
      "outputs": [
        {
          "output_type": "execute_result",
          "data": {
            "text/plain": [
              "31"
            ]
          },
          "metadata": {},
          "execution_count": 4
        }
      ]
    },
    {
      "cell_type": "code",
      "source": [
        "idade = idade + 2\n",
        "idade"
      ],
      "metadata": {
        "colab": {
          "base_uri": "https://localhost:8080/"
        },
        "id": "r7C1bHugW_Mb",
        "outputId": "8147ba5a-f735-459e-da45-6e139b1b6a97"
      },
      "execution_count": 5,
      "outputs": [
        {
          "output_type": "execute_result",
          "data": {
            "text/plain": [
              "30"
            ]
          },
          "metadata": {},
          "execution_count": 5
        }
      ]
    },
    {
      "cell_type": "code",
      "source": [
        "def mais_um_ano(idade):\n",
        "    print(\"tá dentro da função!\")\n",
        "    return idade +1;\n"
      ],
      "metadata": {
        "id": "oMZDFhlEXm1v"
      },
      "execution_count": 14,
      "outputs": []
    },
    {
      "cell_type": "code",
      "source": [
        "mais_um_ano(28)"
      ],
      "metadata": {
        "colab": {
          "base_uri": "https://localhost:8080/"
        },
        "id": "k-ezxMDQX5I6",
        "outputId": "55c7bbe7-6a0f-4c27-ae60-207388855715"
      },
      "execution_count": 15,
      "outputs": [
        {
          "output_type": "stream",
          "name": "stdout",
          "text": [
            "tá dentro da função!\n"
          ]
        },
        {
          "output_type": "execute_result",
          "data": {
            "text/plain": [
              "29"
            ]
          },
          "metadata": {},
          "execution_count": 15
        }
      ]
    },
    {
      "cell_type": "code",
      "source": [
        "filmes = [\"toy story 4\", \"super xuxa contra o baixo astral\", \"matrix\"]\n",
        "filmes"
      ],
      "metadata": {
        "colab": {
          "base_uri": "https://localhost:8080/"
        },
        "id": "nkGaaYmwYl4z",
        "outputId": "10f84c4d-9456-4549-b76c-56b9f9e9228a"
      },
      "execution_count": 17,
      "outputs": [
        {
          "output_type": "execute_result",
          "data": {
            "text/plain": [
              "['toy story 4', 'xuxa contra o baixo astral', 'matrix']"
            ]
          },
          "metadata": {},
          "execution_count": 17
        }
      ]
    },
    {
      "cell_type": "code",
      "source": [
        "def imprime_filmes(filmes_que_quero_imprimir):\n",
        "  print(\"minha lista de filmes disp:\")\n",
        "  print(filmes_que_quero_imprimir)"
      ],
      "metadata": {
        "id": "WZonvZhvZ0ZX"
      },
      "execution_count": 30,
      "outputs": []
    },
    {
      "cell_type": "code",
      "source": [
        "imprime_filmes(filmes)"
      ],
      "metadata": {
        "colab": {
          "base_uri": "https://localhost:8080/"
        },
        "id": "oxT4ujNOa0ZZ",
        "outputId": "2d4f251c-aa2d-4d87-ea9a-802e4f04c046"
      },
      "execution_count": 23,
      "outputs": [
        {
          "output_type": "stream",
          "name": "stdout",
          "text": [
            "lista de filmes disponiveis:\n",
            "['toy story 4', 'xuxa contra o baixo astral', 'matrix']\n"
          ]
        }
      ]
    },
    {
      "cell_type": "code",
      "source": [
        "filmes[1]"
      ],
      "metadata": {
        "colab": {
          "base_uri": "https://localhost:8080/",
          "height": 36
        },
        "id": "d8X7A1sxbkFp",
        "outputId": "7ece817c-41da-494a-b6d0-190ba3bdac6a"
      },
      "execution_count": 24,
      "outputs": [
        {
          "output_type": "execute_result",
          "data": {
            "text/plain": [
              "'xuxa contra o baixo astral'"
            ],
            "application/vnd.google.colaboratory.intrinsic+json": {
              "type": "string"
            }
          },
          "metadata": {},
          "execution_count": 24
        }
      ]
    },
    {
      "cell_type": "code",
      "source": [
        "imprime_filmes(filmes[0])\n",
        "imprime_filmes(filmes[1])\n",
        "imprime_filmes(filmes[2])"
      ],
      "metadata": {
        "colab": {
          "base_uri": "https://localhost:8080/"
        },
        "id": "J3P-PdMCbtfX",
        "outputId": "2e1cda00-f9b2-4b91-8039-40b0f1b3473a"
      },
      "execution_count": 28,
      "outputs": [
        {
          "output_type": "stream",
          "name": "stdout",
          "text": [
            "lista de filmes disponiveis:\n",
            "toy story 4\n",
            "lista de filmes disponiveis:\n",
            "xuxa contra o baixo astral\n",
            "lista de filmes disponiveis:\n",
            "matrix\n"
          ]
        }
      ]
    },
    {
      "cell_type": "code",
      "source": [
        "filmes[-1]"
      ],
      "metadata": {
        "colab": {
          "base_uri": "https://localhost:8080/",
          "height": 36
        },
        "id": "7oY_dTeXbyTG",
        "outputId": "01e9815f-6963-441f-e1a1-404caace8764"
      },
      "execution_count": 29,
      "outputs": [
        {
          "output_type": "execute_result",
          "data": {
            "text/plain": [
              "'matrix'"
            ],
            "application/vnd.google.colaboratory.intrinsic+json": {
              "type": "string"
            }
          },
          "metadata": {},
          "execution_count": 29
        }
      ]
    },
    {
      "cell_type": "code",
      "source": [
        "for filme in filmes:\n",
        "  print(filme)"
      ],
      "metadata": {
        "colab": {
          "base_uri": "https://localhost:8080/"
        },
        "id": "5VaPhJRicVyP",
        "outputId": "b66c7b4d-e019-4420-b47d-bd975eca62f2"
      },
      "execution_count": 31,
      "outputs": [
        {
          "output_type": "stream",
          "name": "stdout",
          "text": [
            "toy story 4\n",
            "xuxa contra o baixo astral\n",
            "matrix\n"
          ]
        }
      ]
    },
    {
      "cell_type": "code",
      "source": [
        "def imprime_filmes(filmes_que_quero_imprimir):\n",
        "  print(\"minha lista de filmes disp:\")\n",
        "  print(filmes_que_quero_imprimir)\n",
        "\n",
        "  for filme in filmes_que_quero_imprimir:\n",
        "    print(filme)\n"
      ],
      "metadata": {
        "id": "saUKwcrDdDSy"
      },
      "execution_count": 32,
      "outputs": []
    },
    {
      "cell_type": "code",
      "source": [
        "imprime_filmes(filmes)"
      ],
      "metadata": {
        "colab": {
          "base_uri": "https://localhost:8080/"
        },
        "id": "lv7NF0BidnBb",
        "outputId": "1e338bbf-8bfa-408e-d459-a0ed652ac471"
      },
      "execution_count": 33,
      "outputs": [
        {
          "output_type": "stream",
          "name": "stdout",
          "text": [
            "minha lista de filmes disp:\n",
            "['toy story 4', 'xuxa contra o baixo astral', 'matrix']\n",
            "toy story 4\n",
            "xuxa contra o baixo astral\n",
            "matrix\n"
          ]
        }
      ]
    },
    {
      "cell_type": "code",
      "source": [
        "dados = {\"nome\" : \"guilherme\", \"idade\":37, \"empresa\" : \"alura\"} #dicionario"
      ],
      "metadata": {
        "id": "CSAvwGCrdtAk"
      },
      "execution_count": 34,
      "outputs": []
    },
    {
      "cell_type": "code",
      "source": [
        "dados"
      ],
      "metadata": {
        "colab": {
          "base_uri": "https://localhost:8080/"
        },
        "id": "v_75-zHge1gL",
        "outputId": "cde69af3-0ce3-4319-8c29-8a2c00333f2c"
      },
      "execution_count": 35,
      "outputs": [
        {
          "output_type": "execute_result",
          "data": {
            "text/plain": [
              "{'nome': 'guilherme', 'idade': 37}"
            ]
          },
          "metadata": {},
          "execution_count": 35
        }
      ]
    },
    {
      "cell_type": "code",
      "source": [
        "dados[\"idade\"]"
      ],
      "metadata": {
        "colab": {
          "base_uri": "https://localhost:8080/"
        },
        "id": "zwfDkL_te2bP",
        "outputId": "783fe0c2-c2e3-4588-c7fc-09d1b627bde1"
      },
      "execution_count": 36,
      "outputs": [
        {
          "output_type": "execute_result",
          "data": {
            "text/plain": [
              "37"
            ]
          },
          "metadata": {},
          "execution_count": 36
        }
      ]
    },
    {
      "cell_type": "code",
      "source": [],
      "metadata": {
        "id": "XMRaCuBVfUPk"
      },
      "execution_count": null,
      "outputs": []
    }
  ]
}